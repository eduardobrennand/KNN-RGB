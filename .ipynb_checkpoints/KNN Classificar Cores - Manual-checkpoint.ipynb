{
 "cells": [
  {
   "cell_type": "markdown",
   "id": "5c4c2665",
   "metadata": {},
   "source": [
    "## Algoritmo K-Nearest Neighbor para classificar cores de acordo com seu RGB\n",
    "Temos uma base de dados com quatro colunas (R, G, B, label) e queremos prever a qual cor (label) determinado exemplo pertence a partir dos seus valores em R (red), G (green), B (blue)."
   ]
  },
  {
   "cell_type": "markdown",
   "id": "bffaf566",
   "metadata": {},
   "source": [
    "**Importando as bibliotecas**"
   ]
  },
  {
   "cell_type": "code",
   "execution_count": 1,
   "id": "60ef4407",
   "metadata": {},
   "outputs": [],
   "source": [
    "import pandas as pd\n",
    "from matplotlib import pyplot as plt\n",
    "import seaborn as sns\n",
    "import math"
   ]
  },
  {
   "cell_type": "markdown",
   "id": "fd04c8b1",
   "metadata": {},
   "source": [
    "**Criando um dataframe a partir da importação do dataset em .csv**"
   ]
  },
  {
   "cell_type": "code",
   "execution_count": 2,
   "id": "0847136e",
   "metadata": {},
   "outputs": [],
   "source": [
    "df = pd.read_csv('dados.csv', sep=',')"
   ]
  },
  {
   "cell_type": "markdown",
   "id": "e1acb688",
   "metadata": {},
   "source": [
    "**Plotando um gráfico de barras para analisar a quantidade que cada cor aparece no dataset**"
   ]
  },
  {
   "cell_type": "code",
   "execution_count": 3,
   "id": "84e28513",
   "metadata": {},
   "outputs": [],
   "source": [
    "colors_count = df['label'].value_counts() #Fazendo a contagem de cada cor específica\n",
    "unique_colors = df['label'].unique() #Listando cada cor\n",
    "color_list = ['blue', 'brown', 'green', 'pink', 'yellow', 'orange', 'purple', 'red', 'grey', 'white', 'black'] #Lista para cores na plotagem"
   ]
  },
  {
   "cell_type": "code",
   "execution_count": 4,
   "id": "d74a85da",
   "metadata": {
    "scrolled": true
   },
   "outputs": [
    {
     "data": {
      "image/png": "[encoded data removed]",
      "text/plain": [
       "<Figure size 432x288 with 1 Axes>"
      ]
     },
     "metadata": {
      "needs_background": "light"
     },
     "output_type": "display_data"
    }
   ],
   "source": [
    "#Criando e mostrando o gráfico de barras\n",
    "plt.bar(unique_colors, colors_count, color=color_list, edgecolor='black')\n",
    "plt.xticks(rotation=45)\n",
    "plt.title('Número de Ocorrências x Cores')\n",
    "plt.ylabel('Nº de Ocorrências')\n",
    "plt.xlabel('Cores')\n",
    "plt.show()"
   ]
  },
  {
   "cell_type": "markdown",
   "id": "bf5b7f19",
   "metadata": {},
   "source": [
    "**Inputando valores RGB novos para serem classificados**"
   ]
  },
  {
   "cell_type": "code",
   "execution_count": 5,
   "id": "3bec8507",
   "metadata": {},
   "outputs": [
    {
     "name": "stdout",
     "output_type": "stream",
     "text": [
      "Digite o valor de R:\n",
      "122\n",
      "Digite o valor de G:\n",
      "85\n",
      "Digite o valor de B:\n",
      "155\n"
     ]
    }
   ],
   "source": [
    "red = int(input('Digite o valor de R:\\n'))\n",
    "green = int(input('Digite o valor de G:\\n'))\n",
    "blue = int(input('Digite o valor de B:\\n'))\n",
    "\n",
    "new_color = [red, green, blue]"
   ]
  },
  {
   "cell_type": "markdown",
   "id": "7bf1ae79",
   "metadata": {},
   "source": [
    "**Cálculo da Distância Euclidiana:**"
   ]
  },
  {
   "cell_type": "markdown",
   "id": "79d4f854",
   "metadata": {},
   "source": [
    "$Data_{i,k} =\n",
    " \\begin{pmatrix}\n",
    "  R & G & B & Label\\\\\n",
    "  225 & 0 & 0 & Red \\\\\n",
    "  P_{21} & P_{22} & P_{23} & Green \\\\\n",
    "  \\vdots  & \\vdots  & \\vdots & \\vdots \\\\ \n",
    "  P_{i1} & P_{i2} & P_{ik} & Blue \\\\\n",
    " \\end{pmatrix}$\n",
    " $New_{i,j} =\n",
    " \\begin{pmatrix}\n",
    "  R & G & B & Label\\\\\n",
    "  P_{j1} & P_{j2} & P_{jk} & ?\n",
    " \\end{pmatrix}$\n",
    "\n",
    "\\\n",
    "$Distancia Euclidiana=\\sqrt {\\sum_{k=1}^n (P_{ik}-P_{jk})^2} $\n",
    "\n",
    "$n =$ Quantidade de atributos que descrevem a instâcia $P$\n",
    "\n",
    "$k =$ Atributo que descreve a instâcia $P$ ($R=1$, $G=2$, $B=3$)\n",
    "\n",
    "$i =$ Posição vertical da instâcia $P$ (1, 2, 3, ..., $i$)"
   ]
  },
  {
   "cell_type": "code",
   "execution_count": 6,
   "id": "65adbc0a",
   "metadata": {},
   "outputs": [],
   "source": [
    "total_rows = len(df)\n",
    "for i in range(total_rows):\n",
    "    values_sum = ((new_color[0] - df['vermelho'][i])**2) + ((new_color[1] - df['verde'][i])**2) + ((new_color[2] - df['azul'][i])**2)\n",
    "    distance = math.sqrt(values_sum)\n",
    "    df.loc[i,'distancia'] = distance #Criando uma nova coluna com os valores respectivos de distância."
   ]
  },
  {
   "cell_type": "markdown",
   "id": "d66bd07d",
   "metadata": {},
   "source": [
    "**Setando um valor para K**"
   ]
  },
  {
   "cell_type": "code",
   "execution_count": 7,
   "id": "d866b81d",
   "metadata": {
    "scrolled": true
   },
   "outputs": [
    {
     "name": "stdout",
     "output_type": "stream",
     "text": [
      "Selecione um valor para K (nº de vizinhos):\n",
      "7\n"
     ]
    }
   ],
   "source": [
    "k_value = int(input('Selecione um valor para K (nº de vizinhos):\\n'))"
   ]
  },
  {
   "cell_type": "markdown",
   "id": "cb269d85",
   "metadata": {},
   "source": [
    "**Ordenando o dataframe e reduzindo para o tamanho de K**"
   ]
  },
  {
   "cell_type": "code",
   "execution_count": 8,
   "id": "dce243e6",
   "metadata": {},
   "outputs": [],
   "source": [
    "df_knn = df.sort_values(by=['distancia'], ascending=True)\n",
    "df_knn = df_knn.head(k_value)"
   ]
  },
  {
   "cell_type": "markdown",
   "id": "562e1167",
   "metadata": {},
   "source": [
    "**Buscando a cor mais recorrente dentro do dataframe**"
   ]
  },
  {
   "cell_type": "code",
   "execution_count": 9,
   "id": "d47a45d9",
   "metadata": {},
   "outputs": [],
   "source": [
    "knn_count = df_knn['label'].value_counts()\n",
    "knn_count = dict(knn_count)\n",
    "knn_color = max(knn_count, key=knn_count.get)"
   ]
  },
  {
   "cell_type": "markdown",
   "id": "0715b021",
   "metadata": {},
   "source": [
    "**Resultado do Algoritmo K-Nearest Neighbor:**"
   ]
  },
  {
   "cell_type": "code",
   "execution_count": 10,
   "id": "2caa8642",
   "metadata": {
    "scrolled": true
   },
   "outputs": [
    {
     "name": "stdout",
     "output_type": "stream",
     "text": [
      "O esquema de cor RGB (122, 85, 155) corresponde à cor Roxo\n"
     ]
    }
   ],
   "source": [
    "print(f'O esquema de cor RGB ({red}, {green}, {blue}) corresponde à cor {knn_color}')"
   ]
  },
  {
   "cell_type": "markdown",
   "id": "bae3aa46",
   "metadata": {},
   "source": [
    "**Calculando a probabilidade de ser cada cor:**"
   ]
  },
  {
   "cell_type": "code",
   "execution_count": 11,
   "id": "375dac63",
   "metadata": {},
   "outputs": [
    {
     "name": "stdout",
     "output_type": "stream",
     "text": [
      "Roxo -> Contagem -> 6 -> Probabilidade: 85.71%\n",
      "Azul -> Contagem -> 1 -> Probabilidade: 14.29%\n"
     ]
    }
   ],
   "source": [
    "for key in knn_count:\n",
    "    print(f'{key} -> Contagem -> {knn_count[key]} -> Probabilidade: {(knn_count[key]/k_value)*100:.2f}%')"
   ]
  },
  {
   "cell_type": "markdown",
   "id": "dff63400",
   "metadata": {},
   "source": [
    "### Testando o algoritmo a partir do dataset já existente"
   ]
  },
  {
   "cell_type": "code",
   "execution_count": 20,
   "id": "dd117327",
   "metadata": {},
   "outputs": [],
   "source": [
    "X = df.drop(columns= ['label', 'distancia'])\n",
    "y = df['label']"
   ]
  },
  {
   "cell_type": "code",
   "execution_count": 21,
   "id": "9e282b78",
   "metadata": {},
   "outputs": [],
   "source": [
    "def knn(rgb, n_neighbor):\n",
    "    df = pd.read_csv('dados.csv', sep=',')\n",
    "    \n",
    "    total_rows = len(df)\n",
    "    \n",
    "    for i in range(total_rows):\n",
    "        values_sum = ((rgb[0] - df['vermelho'][i])**2) + ((rgb[1] - df['verde'][i])**2) + ((rgb[2] - df['azul'][i])**2)\n",
    "        distance = math.sqrt(values_sum)\n",
    "        df.loc[i,'distancia'] = distance #Criando uma nova coluna com os valores respectivos de distância.\n",
    "        \n",
    "    df_knn = df.sort_values(by=['distancia'], ascending=True)\n",
    "    df_knn = df_knn.head(n_neighbor)\n",
    "    \n",
    "    knn_count = df_knn['label'].value_counts()\n",
    "    knn_count = dict(knn_count)\n",
    "    knn_color = max(knn_count, key=knn_count.get)\n",
    "    \n",
    "    return knn_color"
   ]
  },
  {
   "cell_type": "code",
   "execution_count": null,
   "id": "907293a8",
   "metadata": {},
   "outputs": [],
   "source": [
    "for i in range(len(df)):\n",
    "    df.loc[i, 'algoritmo knn'] = knn([df['vermelho'][i], df['verde'][i], df['azul'][i]], 7)"
   ]
  },
  {
   "cell_type": "code",
   "execution_count": null,
   "id": "e13ed801",
   "metadata": {},
   "outputs": [],
   "source": []
  }
 ],
 "metadata": {
  "kernelspec": {
   "display_name": "Python 3 (ipykernel)",
   "language": "python",
   "name": "python3"
  },
  "language_info": {
   "codemirror_mode": {
    "name": "ipython",
    "version": 3
   },
   "file_extension": ".py",
   "mimetype": "text/x-python",
   "name": "python",
   "nbconvert_exporter": "python",
   "pygments_lexer": "ipython3",
   "version": "3.9.7"
  }
 },
 "nbformat": 4,
 "nbformat_minor": 5
}
