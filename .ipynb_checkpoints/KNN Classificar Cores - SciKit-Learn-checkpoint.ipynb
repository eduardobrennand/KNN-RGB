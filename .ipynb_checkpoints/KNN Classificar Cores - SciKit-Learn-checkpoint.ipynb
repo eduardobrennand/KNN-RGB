{
 "cells": [
  {
   "cell_type": "markdown",
   "id": "d74ee475",
   "metadata": {},
   "source": [
    "## Algoritmo K-Nearest Neighbor para classificar cores de acordo com seu RGB\n",
    "Temos uma base de dados com quatro colunas (R, G, B, label) e queremos prever a qual cor (label) determinado exemplo pertence a partir dos seus valores em R (red), G (green), B (blue)."
   ]
  },
  {
   "cell_type": "markdown",
   "id": "5ceb7594",
   "metadata": {},
   "source": [
    "**Importando as bibliotecas**"
   ]
  },
  {
   "cell_type": "code",
   "execution_count": 4,
   "id": "64016238",
   "metadata": {},
   "outputs": [],
   "source": [
    "import pandas as pd\n",
    "from matplotlib import pyplot as plt\n",
    "import seaborn as sns\n",
    "import math"
   ]
  },
  {
   "cell_type": "markdown",
   "id": "35ec5c51",
   "metadata": {},
   "source": [
    "**Criando um dataframe a partir da importação do dataset em .csv**"
   ]
  },
  {
   "cell_type": "code",
   "execution_count": 5,
   "id": "9c48c5b1",
   "metadata": {
    "scrolled": true
   },
   "outputs": [],
   "source": [
    "df = pd.read_csv('dados.csv', sep=',')"
   ]
  },
  {
   "cell_type": "code",
   "execution_count": 6,
   "id": "0e1b3d0d",
   "metadata": {
    "scrolled": true
   },
   "outputs": [
    {
     "data": {
      "text/html": [
       "<div>\n",
       "<style scoped>\n",
       "    .dataframe tbody tr th:only-of-type {\n",
       "        vertical-align: middle;\n",
       "    }\n",
       "\n",
       "    .dataframe tbody tr th {\n",
       "        vertical-align: top;\n",
       "    }\n",
       "\n",
       "    .dataframe thead th {\n",
       "        text-align: right;\n",
       "    }\n",
       "</style>\n",
       "<table border=\"1\" class=\"dataframe\">\n",
       "  <thead>\n",
       "    <tr style=\"text-align: right;\">\n",
       "      <th></th>\n",
       "      <th>vermelho</th>\n",
       "      <th>verde</th>\n",
       "      <th>azul</th>\n",
       "      <th>label</th>\n",
       "    </tr>\n",
       "  </thead>\n",
       "  <tbody>\n",
       "    <tr>\n",
       "      <th>0</th>\n",
       "      <td>20</td>\n",
       "      <td>139</td>\n",
       "      <td>240</td>\n",
       "      <td>Azul</td>\n",
       "    </tr>\n",
       "    <tr>\n",
       "      <th>1</th>\n",
       "      <td>174</td>\n",
       "      <td>83</td>\n",
       "      <td>72</td>\n",
       "      <td>Marrom</td>\n",
       "    </tr>\n",
       "    <tr>\n",
       "      <th>2</th>\n",
       "      <td>144</td>\n",
       "      <td>249</td>\n",
       "      <td>131</td>\n",
       "      <td>Verde</td>\n",
       "    </tr>\n",
       "    <tr>\n",
       "      <th>3</th>\n",
       "      <td>168</td>\n",
       "      <td>25</td>\n",
       "      <td>156</td>\n",
       "      <td>Rosa</td>\n",
       "    </tr>\n",
       "    <tr>\n",
       "      <th>4</th>\n",
       "      <td>30</td>\n",
       "      <td>182</td>\n",
       "      <td>136</td>\n",
       "      <td>Verde</td>\n",
       "    </tr>\n",
       "    <tr>\n",
       "      <th>...</th>\n",
       "      <td>...</td>\n",
       "      <td>...</td>\n",
       "      <td>...</td>\n",
       "      <td>...</td>\n",
       "    </tr>\n",
       "    <tr>\n",
       "      <th>5047</th>\n",
       "      <td>26</td>\n",
       "      <td>26</td>\n",
       "      <td>26</td>\n",
       "      <td>Preto</td>\n",
       "    </tr>\n",
       "    <tr>\n",
       "      <th>5048</th>\n",
       "      <td>27</td>\n",
       "      <td>27</td>\n",
       "      <td>27</td>\n",
       "      <td>Preto</td>\n",
       "    </tr>\n",
       "    <tr>\n",
       "      <th>5049</th>\n",
       "      <td>28</td>\n",
       "      <td>28</td>\n",
       "      <td>28</td>\n",
       "      <td>Preto</td>\n",
       "    </tr>\n",
       "    <tr>\n",
       "      <th>5050</th>\n",
       "      <td>29</td>\n",
       "      <td>29</td>\n",
       "      <td>29</td>\n",
       "      <td>Preto</td>\n",
       "    </tr>\n",
       "    <tr>\n",
       "      <th>5051</th>\n",
       "      <td>30</td>\n",
       "      <td>30</td>\n",
       "      <td>30</td>\n",
       "      <td>Preto</td>\n",
       "    </tr>\n",
       "  </tbody>\n",
       "</table>\n",
       "<p>5052 rows × 4 columns</p>\n",
       "</div>"
      ],
      "text/plain": [
       "      vermelho  verde  azul   label\n",
       "0           20    139   240    Azul\n",
       "1          174     83    72  Marrom\n",
       "2          144    249   131   Verde\n",
       "3          168     25   156    Rosa\n",
       "4           30    182   136   Verde\n",
       "...        ...    ...   ...     ...\n",
       "5047        26     26    26   Preto\n",
       "5048        27     27    27   Preto\n",
       "5049        28     28    28   Preto\n",
       "5050        29     29    29   Preto\n",
       "5051        30     30    30   Preto\n",
       "\n",
       "[5052 rows x 4 columns]"
      ]
     },
     "execution_count": 6,
     "metadata": {},
     "output_type": "execute_result"
    }
   ],
   "source": [
    "df"
   ]
  },
  {
   "cell_type": "markdown",
   "id": "824714ad",
   "metadata": {},
   "source": [
    "**Dividindo em set de treino e set de teste**"
   ]
  },
  {
   "cell_type": "code",
   "execution_count": 50,
   "id": "a24979e4",
   "metadata": {},
   "outputs": [],
   "source": [
    "from sklearn.model_selection import train_test_split\n",
    "\n",
    "X = df.drop(columns='label')\n",
    "y = df['label']\n",
    "\n",
    "X_train, X_test, y_train, y_test = train_test_split(X, y, test_size=0.33, random_state=42)"
   ]
  },
  {
   "cell_type": "markdown",
   "id": "6d609807",
   "metadata": {},
   "source": [
    "**Aplicando o modelo KNN no dataset**"
   ]
  },
  {
   "cell_type": "code",
   "execution_count": 95,
   "id": "63419418",
   "metadata": {},
   "outputs": [
    {
     "data": {
      "text/plain": [
       "KNeighborsClassifier()"
      ]
     },
     "execution_count": 95,
     "metadata": {},
     "output_type": "execute_result"
    }
   ],
   "source": [
    "from sklearn.neighbors import KNeighborsClassifier\n",
    "\n",
    "clf = KNeighborsClassifier()\n",
    "clf.fit(X_train, y_train)"
   ]
  },
  {
   "cell_type": "markdown",
   "id": "a5824659",
   "metadata": {},
   "source": [
    "**Conjunto de Treino**"
   ]
  },
  {
   "cell_type": "code",
   "execution_count": 96,
   "id": "fde6ad59",
   "metadata": {},
   "outputs": [
    {
     "data": {
      "text/html": [
       "<div>\n",
       "<style scoped>\n",
       "    .dataframe tbody tr th:only-of-type {\n",
       "        vertical-align: middle;\n",
       "    }\n",
       "\n",
       "    .dataframe tbody tr th {\n",
       "        vertical-align: top;\n",
       "    }\n",
       "\n",
       "    .dataframe thead th {\n",
       "        text-align: right;\n",
       "    }\n",
       "</style>\n",
       "<table border=\"1\" class=\"dataframe\">\n",
       "  <thead>\n",
       "    <tr style=\"text-align: right;\">\n",
       "      <th></th>\n",
       "      <th>vermelho</th>\n",
       "      <th>verde</th>\n",
       "      <th>azul</th>\n",
       "      <th>label</th>\n",
       "    </tr>\n",
       "  </thead>\n",
       "  <tbody>\n",
       "    <tr>\n",
       "      <th>1017</th>\n",
       "      <td>53</td>\n",
       "      <td>123</td>\n",
       "      <td>80</td>\n",
       "      <td>Verde</td>\n",
       "    </tr>\n",
       "    <tr>\n",
       "      <th>557</th>\n",
       "      <td>197</td>\n",
       "      <td>30</td>\n",
       "      <td>165</td>\n",
       "      <td>Rosa</td>\n",
       "    </tr>\n",
       "    <tr>\n",
       "      <th>2620</th>\n",
       "      <td>1</td>\n",
       "      <td>70</td>\n",
       "      <td>113</td>\n",
       "      <td>Azul</td>\n",
       "    </tr>\n",
       "    <tr>\n",
       "      <th>1207</th>\n",
       "      <td>213</td>\n",
       "      <td>2</td>\n",
       "      <td>18</td>\n",
       "      <td>Vermelho</td>\n",
       "    </tr>\n",
       "    <tr>\n",
       "      <th>4092</th>\n",
       "      <td>34</td>\n",
       "      <td>50</td>\n",
       "      <td>35</td>\n",
       "      <td>Verde</td>\n",
       "    </tr>\n",
       "    <tr>\n",
       "      <th>...</th>\n",
       "      <td>...</td>\n",
       "      <td>...</td>\n",
       "      <td>...</td>\n",
       "      <td>...</td>\n",
       "    </tr>\n",
       "    <tr>\n",
       "      <th>4426</th>\n",
       "      <td>234</td>\n",
       "      <td>33</td>\n",
       "      <td>226</td>\n",
       "      <td>Rosa</td>\n",
       "    </tr>\n",
       "    <tr>\n",
       "      <th>466</th>\n",
       "      <td>239</td>\n",
       "      <td>173</td>\n",
       "      <td>169</td>\n",
       "      <td>Vermelho</td>\n",
       "    </tr>\n",
       "    <tr>\n",
       "      <th>3092</th>\n",
       "      <td>234</td>\n",
       "      <td>223</td>\n",
       "      <td>24</td>\n",
       "      <td>Amarelo</td>\n",
       "    </tr>\n",
       "    <tr>\n",
       "      <th>3772</th>\n",
       "      <td>62</td>\n",
       "      <td>165</td>\n",
       "      <td>196</td>\n",
       "      <td>Azul</td>\n",
       "    </tr>\n",
       "    <tr>\n",
       "      <th>860</th>\n",
       "      <td>156</td>\n",
       "      <td>212</td>\n",
       "      <td>105</td>\n",
       "      <td>Verde</td>\n",
       "    </tr>\n",
       "  </tbody>\n",
       "</table>\n",
       "<p>3384 rows × 4 columns</p>\n",
       "</div>"
      ],
      "text/plain": [
       "      vermelho  verde  azul     label\n",
       "1017        53    123    80     Verde\n",
       "557        197     30   165      Rosa\n",
       "2620         1     70   113      Azul\n",
       "1207       213      2    18  Vermelho\n",
       "4092        34     50    35     Verde\n",
       "...        ...    ...   ...       ...\n",
       "4426       234     33   226      Rosa\n",
       "466        239    173   169  Vermelho\n",
       "3092       234    223    24   Amarelo\n",
       "3772        62    165   196      Azul\n",
       "860        156    212   105     Verde\n",
       "\n",
       "[3384 rows x 4 columns]"
      ]
     },
     "execution_count": 96,
     "metadata": {},
     "output_type": "execute_result"
    }
   ],
   "source": [
    "df_train = X_train.assign(label = y_train)\n",
    "df_train"
   ]
  },
  {
   "cell_type": "markdown",
   "id": "1363a4fb",
   "metadata": {},
   "source": [
    "**Conjunto de Testes**"
   ]
  },
  {
   "cell_type": "code",
   "execution_count": 97,
   "id": "9b853690",
   "metadata": {
    "scrolled": true
   },
   "outputs": [
    {
     "data": {
      "text/html": [
       "<div>\n",
       "<style scoped>\n",
       "    .dataframe tbody tr th:only-of-type {\n",
       "        vertical-align: middle;\n",
       "    }\n",
       "\n",
       "    .dataframe tbody tr th {\n",
       "        vertical-align: top;\n",
       "    }\n",
       "\n",
       "    .dataframe thead th {\n",
       "        text-align: right;\n",
       "    }\n",
       "</style>\n",
       "<table border=\"1\" class=\"dataframe\">\n",
       "  <thead>\n",
       "    <tr style=\"text-align: right;\">\n",
       "      <th></th>\n",
       "      <th>vermelho</th>\n",
       "      <th>verde</th>\n",
       "      <th>azul</th>\n",
       "      <th>label</th>\n",
       "    </tr>\n",
       "  </thead>\n",
       "  <tbody>\n",
       "    <tr>\n",
       "      <th>4712</th>\n",
       "      <td>120</td>\n",
       "      <td>177</td>\n",
       "      <td>46</td>\n",
       "      <td>Verde</td>\n",
       "    </tr>\n",
       "    <tr>\n",
       "      <th>691</th>\n",
       "      <td>65</td>\n",
       "      <td>137</td>\n",
       "      <td>194</td>\n",
       "      <td>Azul</td>\n",
       "    </tr>\n",
       "    <tr>\n",
       "      <th>65</th>\n",
       "      <td>68</td>\n",
       "      <td>240</td>\n",
       "      <td>4</td>\n",
       "      <td>Verde</td>\n",
       "    </tr>\n",
       "    <tr>\n",
       "      <th>2351</th>\n",
       "      <td>125</td>\n",
       "      <td>157</td>\n",
       "      <td>28</td>\n",
       "      <td>Verde</td>\n",
       "    </tr>\n",
       "    <tr>\n",
       "      <th>4684</th>\n",
       "      <td>117</td>\n",
       "      <td>128</td>\n",
       "      <td>20</td>\n",
       "      <td>Verde</td>\n",
       "    </tr>\n",
       "    <tr>\n",
       "      <th>...</th>\n",
       "      <td>...</td>\n",
       "      <td>...</td>\n",
       "      <td>...</td>\n",
       "      <td>...</td>\n",
       "    </tr>\n",
       "    <tr>\n",
       "      <th>4010</th>\n",
       "      <td>42</td>\n",
       "      <td>45</td>\n",
       "      <td>13</td>\n",
       "      <td>Verde</td>\n",
       "    </tr>\n",
       "    <tr>\n",
       "      <th>2948</th>\n",
       "      <td>20</td>\n",
       "      <td>62</td>\n",
       "      <td>143</td>\n",
       "      <td>Azul</td>\n",
       "    </tr>\n",
       "    <tr>\n",
       "      <th>1971</th>\n",
       "      <td>122</td>\n",
       "      <td>81</td>\n",
       "      <td>226</td>\n",
       "      <td>Roxo</td>\n",
       "    </tr>\n",
       "    <tr>\n",
       "      <th>4311</th>\n",
       "      <td>167</td>\n",
       "      <td>131</td>\n",
       "      <td>108</td>\n",
       "      <td>Marrom</td>\n",
       "    </tr>\n",
       "    <tr>\n",
       "      <th>4065</th>\n",
       "      <td>116</td>\n",
       "      <td>197</td>\n",
       "      <td>151</td>\n",
       "      <td>Verde</td>\n",
       "    </tr>\n",
       "  </tbody>\n",
       "</table>\n",
       "<p>1668 rows × 4 columns</p>\n",
       "</div>"
      ],
      "text/plain": [
       "      vermelho  verde  azul   label\n",
       "4712       120    177    46   Verde\n",
       "691         65    137   194    Azul\n",
       "65          68    240     4   Verde\n",
       "2351       125    157    28   Verde\n",
       "4684       117    128    20   Verde\n",
       "...        ...    ...   ...     ...\n",
       "4010        42     45    13   Verde\n",
       "2948        20     62   143    Azul\n",
       "1971       122     81   226    Roxo\n",
       "4311       167    131   108  Marrom\n",
       "4065       116    197   151   Verde\n",
       "\n",
       "[1668 rows x 4 columns]"
      ]
     },
     "execution_count": 97,
     "metadata": {},
     "output_type": "execute_result"
    }
   ],
   "source": [
    "df_test = X_test.assign(label = y_test)\n",
    "df_test"
   ]
  },
  {
   "cell_type": "markdown",
   "id": "edd10d03",
   "metadata": {},
   "source": [
    "**Relatórios de Desempenho**"
   ]
  },
  {
   "cell_type": "code",
   "execution_count": 98,
   "id": "6971206e",
   "metadata": {},
   "outputs": [],
   "source": [
    "y_true = y_test.values.tolist()\n",
    "y_pred = clf.predict(X_test)"
   ]
  },
  {
   "cell_type": "code",
   "execution_count": 99,
   "id": "c79a565b",
   "metadata": {
    "scrolled": false
   },
   "outputs": [
    {
     "name": "stdout",
     "output_type": "stream",
     "text": [
      "              precision    recall  f1-score   support\n",
      "\n",
      "     Amarelo       0.80      0.75      0.77        96\n",
      "        Azul       0.90      0.92      0.91       365\n",
      "      Branco       0.62      0.89      0.73         9\n",
      "       Cinza       0.72      0.81      0.76        57\n",
      "     Laranja       0.67      0.75      0.71        55\n",
      "      Marrom       0.78      0.81      0.80       124\n",
      "       Preto       0.81      0.81      0.81        16\n",
      "        Rosa       0.82      0.87      0.84       180\n",
      "        Roxo       0.83      0.73      0.78       184\n",
      "       Verde       0.92      0.92      0.92       500\n",
      "    Vermelho       0.85      0.73      0.78        82\n",
      "\n",
      "    accuracy                           0.86      1668\n",
      "   macro avg       0.79      0.82      0.80      1668\n",
      "weighted avg       0.86      0.86      0.86      1668\n",
      "\n"
     ]
    }
   ],
   "source": [
    "from sklearn.metrics import classification_report\n",
    "print(classification_report(y_true, y_pred))"
   ]
  },
  {
   "cell_type": "markdown",
   "id": "78ea742b",
   "metadata": {},
   "source": [
    "**Plotando a Matriz de Confusão**"
   ]
  },
  {
   "cell_type": "code",
   "execution_count": 100,
   "id": "b43ab193",
   "metadata": {},
   "outputs": [],
   "source": [
    "from sklearn.metrics import confusion_matrix\n",
    "y_labels = list(set(y_train))\n",
    "cm = confusion_matrix(y_true, y_pred, labels=y_labels)"
   ]
  },
  {
   "cell_type": "code",
   "execution_count": 101,
   "id": "cb663eaa",
   "metadata": {},
   "outputs": [
    {
     "data": {
      "image/png": "[encoded data removed]",
      "text/plain": [
       "<Figure size 432x288 with 2 Axes>"
      ]
     },
     "metadata": {
      "needs_background": "light"
     },
     "output_type": "display_data"
    }
   ],
   "source": [
    "import seaborn as sns\n",
    "import matplotlib.pyplot as plt   \n",
    "\n",
    "#Criando o gráfico de calor com seaborn\n",
    "ax= plt.subplot()\n",
    "sns.heatmap(cm, annot=True, fmt='g', ax=ax, cmap='Blues');  \n",
    "\n",
    "# Configurando os labels do gráfico\n",
    "ax.set_xlabel('Predicted labels');ax.set_ylabel('True labels');\n",
    "ax.set_title('Confusion Matrix');\n",
    "ax.xaxis.set_ticklabels(y_labels, rotation=45); ax.yaxis.set_ticklabels(y_labels, rotation=45);"
   ]
  }
 ],
 "metadata": {
  "kernelspec": {
   "display_name": "Python 3 (ipykernel)",
   "language": "python",
   "name": "python3"
  },
  "language_info": {
   "codemirror_mode": {
    "name": "ipython",
    "version": 3
   },
   "file_extension": ".py",
   "mimetype": "text/x-python",
   "name": "python",
   "nbconvert_exporter": "python",
   "pygments_lexer": "ipython3",
   "version": "3.9.7"
  }
 },
 "nbformat": 4,
 "nbformat_minor": 5
}
